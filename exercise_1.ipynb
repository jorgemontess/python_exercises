{
 "cells": [
  {
   "cell_type": "markdown",
   "metadata": {},
   "source": [
    "'''\n",
    "\n",
    "Imagina que trabajas para una empresa de comercio electrónico y te han proporcionado un conjunto \n",
    "de datos en forma de diccionario que contiene información sobre las transacciones de los clientes. \n",
    "Quieren que realices un análisis básico para comprender mejor el comportamiento de compra de los clientes.\n",
    "\n",
    "Problema: Utiliza Pandas para responder a las siguientes preguntas sobre las transacciones:\n",
    "\n",
    "¿Cuántas transacciones hay en total?\n",
    "¿Cuál es el monto total de todas las transacciones?\n",
    "¿Cuántos clientes únicos han realizado transacciones?\n",
    "\n",
    "\n",
    "'''"
   ]
  },
  {
   "cell_type": "code",
   "execution_count": 4,
   "metadata": {},
   "outputs": [],
   "source": [
    "import pandas as pd\n",
    "import numpy as np"
   ]
  },
  {
   "cell_type": "code",
   "execution_count": 2,
   "metadata": {},
   "outputs": [],
   "source": [
    "transacciones = [\n",
    "    {\"cliente\": \"Cliente1\", \"monto\": 100, \"fecha\": \"2024-03-01\"},\n",
    "    {\"cliente\": \"Cliente2\", \"monto\": 150, \"fecha\": \"2024-03-02\"},\n",
    "    {\"cliente\": \"Cliente3\", \"monto\": 200, \"fecha\": \"2024-03-03\"},\n",
    "    {\"cliente\": \"Cliente1\", \"monto\": 120, \"fecha\": \"2024-03-04\"},\n",
    "    {\"cliente\": \"Cliente4\", \"monto\": 80, \"fecha\": \"2024-03-05\"},\n",
    "    {\"cliente\": \"Cliente2\", \"monto\": 90, \"fecha\": \"2024-03-06\"},\n",
    "    {\"cliente\": \"Cliente5\", \"monto\": 300, \"fecha\": \"2024-03-07\"},\n",
    "    {\"cliente\": \"Cliente3\", \"monto\": 250, \"fecha\": \"2024-03-08\"},\n",
    "    {\"cliente\": \"Cliente1\", \"monto\": 180, \"fecha\": \"2024-03-09\"},\n",
    "    {\"cliente\": \"Cliente6\", \"monto\": 200, \"fecha\": \"2024-03-10\"}\n",
    "]"
   ]
  },
  {
   "cell_type": "code",
   "execution_count": null,
   "metadata": {},
   "outputs": [],
   "source": []
  }
 ],
 "metadata": {
  "kernelspec": {
   "display_name": "Python 3",
   "language": "python",
   "name": "python3"
  },
  "language_info": {
   "codemirror_mode": {
    "name": "ipython",
    "version": 3
   },
   "file_extension": ".py",
   "mimetype": "text/x-python",
   "name": "python",
   "nbconvert_exporter": "python",
   "pygments_lexer": "ipython3",
   "version": "3.12.1"
  }
 },
 "nbformat": 4,
 "nbformat_minor": 2
}
