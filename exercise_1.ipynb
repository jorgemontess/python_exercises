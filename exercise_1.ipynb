{
 "cells": [
  {
   "cell_type": "markdown",
   "metadata": {},
   "source": [
    "'''\n",
    "\n",
    "Imagina que trabajas para una empresa de comercio electrónico y te han proporcionado un conjunto \n",
    "de datos en forma de diccionario que contiene información sobre las transacciones de los clientes. \n",
    "Quieren que realices un análisis básico para comprender mejor el comportamiento de compra de los clientes.\n",
    "\n",
    "Problema: Utiliza Pandas para responder a las siguientes preguntas sobre las transacciones:\n",
    "\n",
    "- ¿Cuántas transacciones hay en total?  --> Hay en total 10 transacciones\n",
    "\n",
    "- ¿Cuál es el monto total de todas las transacciones? --> El monto total de las transacciones es 1670\n",
    "\n",
    "- ¿Cuántos clientes únicos han realizado transacciones? --> 6 Clientes unicos han realizado transacciones \n",
    "\n",
    "\n",
    "'''"
   ]
  },
  {
   "cell_type": "code",
   "execution_count": 30,
   "metadata": {},
   "outputs": [],
   "source": [
    "import pandas as pd\n",
    "import numpy as np"
   ]
  },
  {
   "cell_type": "code",
   "execution_count": 31,
   "metadata": {},
   "outputs": [],
   "source": [
    "transacciones = [\n",
    "    {\"cliente\": \"Cliente1\", \"monto\": 100, \"fecha\": \"2024-03-01\"},\n",
    "    {\"cliente\": \"Cliente2\", \"monto\": 150, \"fecha\": \"2024-03-02\"},\n",
    "    {\"cliente\": \"Cliente3\", \"monto\": 200, \"fecha\": \"2024-03-03\"},\n",
    "    {\"cliente\": \"Cliente1\", \"monto\": 120, \"fecha\": \"2024-03-04\"},\n",
    "    {\"cliente\": \"Cliente4\", \"monto\": 80, \"fecha\": \"2024-03-05\"},\n",
    "    {\"cliente\": \"Cliente2\", \"monto\": 90, \"fecha\": \"2024-03-06\"},\n",
    "    {\"cliente\": \"Cliente5\", \"monto\": 300, \"fecha\": \"2024-03-07\"},\n",
    "    {\"cliente\": \"Cliente3\", \"monto\": 250, \"fecha\": \"2024-03-08\"},\n",
    "    {\"cliente\": \"Cliente1\", \"monto\": 180, \"fecha\": \"2024-03-09\"},\n",
    "    {\"cliente\": \"Cliente6\", \"monto\": 200, \"fecha\": \"2024-03-10\"}\n",
    "]"
   ]
  },
  {
   "cell_type": "code",
   "execution_count": 32,
   "metadata": {},
   "outputs": [
    {
     "data": {
      "text/html": [
       "<div>\n",
       "<style scoped>\n",
       "    .dataframe tbody tr th:only-of-type {\n",
       "        vertical-align: middle;\n",
       "    }\n",
       "\n",
       "    .dataframe tbody tr th {\n",
       "        vertical-align: top;\n",
       "    }\n",
       "\n",
       "    .dataframe thead th {\n",
       "        text-align: right;\n",
       "    }\n",
       "</style>\n",
       "<table border=\"1\" class=\"dataframe\">\n",
       "  <thead>\n",
       "    <tr style=\"text-align: right;\">\n",
       "      <th></th>\n",
       "      <th>cliente</th>\n",
       "      <th>monto</th>\n",
       "      <th>fecha</th>\n",
       "    </tr>\n",
       "  </thead>\n",
       "  <tbody>\n",
       "    <tr>\n",
       "      <th>0</th>\n",
       "      <td>Cliente1</td>\n",
       "      <td>100</td>\n",
       "      <td>2024-03-01</td>\n",
       "    </tr>\n",
       "    <tr>\n",
       "      <th>1</th>\n",
       "      <td>Cliente2</td>\n",
       "      <td>150</td>\n",
       "      <td>2024-03-02</td>\n",
       "    </tr>\n",
       "    <tr>\n",
       "      <th>2</th>\n",
       "      <td>Cliente3</td>\n",
       "      <td>200</td>\n",
       "      <td>2024-03-03</td>\n",
       "    </tr>\n",
       "    <tr>\n",
       "      <th>3</th>\n",
       "      <td>Cliente1</td>\n",
       "      <td>120</td>\n",
       "      <td>2024-03-04</td>\n",
       "    </tr>\n",
       "    <tr>\n",
       "      <th>4</th>\n",
       "      <td>Cliente4</td>\n",
       "      <td>80</td>\n",
       "      <td>2024-03-05</td>\n",
       "    </tr>\n",
       "    <tr>\n",
       "      <th>5</th>\n",
       "      <td>Cliente2</td>\n",
       "      <td>90</td>\n",
       "      <td>2024-03-06</td>\n",
       "    </tr>\n",
       "    <tr>\n",
       "      <th>6</th>\n",
       "      <td>Cliente5</td>\n",
       "      <td>300</td>\n",
       "      <td>2024-03-07</td>\n",
       "    </tr>\n",
       "    <tr>\n",
       "      <th>7</th>\n",
       "      <td>Cliente3</td>\n",
       "      <td>250</td>\n",
       "      <td>2024-03-08</td>\n",
       "    </tr>\n",
       "    <tr>\n",
       "      <th>8</th>\n",
       "      <td>Cliente1</td>\n",
       "      <td>180</td>\n",
       "      <td>2024-03-09</td>\n",
       "    </tr>\n",
       "    <tr>\n",
       "      <th>9</th>\n",
       "      <td>Cliente6</td>\n",
       "      <td>200</td>\n",
       "      <td>2024-03-10</td>\n",
       "    </tr>\n",
       "  </tbody>\n",
       "</table>\n",
       "</div>"
      ],
      "text/plain": [
       "    cliente  monto       fecha\n",
       "0  Cliente1    100  2024-03-01\n",
       "1  Cliente2    150  2024-03-02\n",
       "2  Cliente3    200  2024-03-03\n",
       "3  Cliente1    120  2024-03-04\n",
       "4  Cliente4     80  2024-03-05\n",
       "5  Cliente2     90  2024-03-06\n",
       "6  Cliente5    300  2024-03-07\n",
       "7  Cliente3    250  2024-03-08\n",
       "8  Cliente1    180  2024-03-09\n",
       "9  Cliente6    200  2024-03-10"
      ]
     },
     "execution_count": 32,
     "metadata": {},
     "output_type": "execute_result"
    }
   ],
   "source": [
    "df_transacciones = pd.DataFrame(transacciones)\n",
    "\n",
    "df_transacciones"
   ]
  },
  {
   "cell_type": "code",
   "execution_count": 40,
   "metadata": {},
   "outputs": [
    {
     "data": {
      "text/plain": [
       "10"
      ]
     },
     "execution_count": 40,
     "metadata": {},
     "output_type": "execute_result"
    }
   ],
   "source": [
    "# Monto de las trasacciones\n",
    "\n",
    "df_transacciones['monto'].describe()\n",
    "len_df_transacciones = len(df_transacciones['monto'])\n",
    "len_df_transacciones"
   ]
  },
  {
   "cell_type": "code",
   "execution_count": 29,
   "metadata": {},
   "outputs": [
    {
     "data": {
      "text/plain": [
       "1670"
      ]
     },
     "execution_count": 29,
     "metadata": {},
     "output_type": "execute_result"
    }
   ],
   "source": [
    "# Monto total transacciones\n",
    "\n",
    "suma = sum(df_transacciones['monto'])\n",
    "suma"
   ]
  },
  {
   "cell_type": "code",
   "execution_count": 36,
   "metadata": {},
   "outputs": [
    {
     "data": {
      "text/plain": [
       "{'Cliente1', 'Cliente2', 'Cliente3', 'Cliente4', 'Cliente5', 'Cliente6'}"
      ]
     },
     "execution_count": 36,
     "metadata": {},
     "output_type": "execute_result"
    }
   ],
   "source": [
    "# Clientes Unicos que realizaron transacciones\n",
    "\n",
    "conjunto_transaccion = set(df_transacciones['cliente'])\n",
    "conjunto_transaccion"
   ]
  },
  {
   "cell_type": "code",
   "execution_count": null,
   "metadata": {},
   "outputs": [],
   "source": []
  }
 ],
 "metadata": {
  "kernelspec": {
   "display_name": "Python 3",
   "language": "python",
   "name": "python3"
  },
  "language_info": {
   "codemirror_mode": {
    "name": "ipython",
    "version": 3
   },
   "file_extension": ".py",
   "mimetype": "text/x-python",
   "name": "python",
   "nbconvert_exporter": "python",
   "pygments_lexer": "ipython3",
   "version": "3.12.1"
  }
 },
 "nbformat": 4,
 "nbformat_minor": 2
}
